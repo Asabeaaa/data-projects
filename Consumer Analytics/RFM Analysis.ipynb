{
 "cells": [
  {
   "cell_type": "markdown",
   "metadata": {},
   "source": [
    "## Importing libraries"
   ]
  },
  {
   "cell_type": "code",
   "execution_count": 41,
   "metadata": {},
   "outputs": [],
   "source": [
    "import pandas as pd\n",
    "from dotenv import load_dotenv\n",
    "import os\n",
    "import pymysql\n",
    "import matplotlib.pyplot as plt\n",
    "import seaborn as sns\n",
    "from datetime import datetime\n",
    "import warnings\n",
    "warnings.filterwarnings(\"ignore\") "
   ]
  },
  {
   "cell_type": "code",
   "execution_count": 2,
   "metadata": {},
   "outputs": [
    {
     "data": {
      "text/plain": [
       "True"
      ]
     },
     "execution_count": 2,
     "metadata": {},
     "output_type": "execute_result"
    }
   ],
   "source": [
    "## load env\n",
    "BASE_DIR = os.path.dirname(os.path.abspath('__file__'))\n",
    "load_dotenv(os.path.join(BASE_DIR, '.env'))"
   ]
  },
  {
   "cell_type": "markdown",
   "metadata": {},
   "source": [
    "## Retrieve client data"
   ]
  },
  {
   "cell_type": "code",
   "execution_count": 3,
   "metadata": {},
   "outputs": [],
   "source": [
    "# find newly added and edited transactions\n",
    "conn = pymysql.connect(host=os.getenv(\"MYSQL_DB_HOST\") ,\n",
    "                       port=3306,\n",
    "                       user=os.getenv(\"MYSQL_DB_USER\"),\n",
    "                       passwd=os.getenv(\"MYSQL_DB_PASSWORD\"),\n",
    "                       db=os.getenv(\"MYSQL_DB_NAME\"))"
   ]
  },
  {
   "cell_type": "markdown",
   "metadata": {},
   "source": [
    "transaction data"
   ]
  },
  {
   "cell_type": "code",
   "execution_count": 4,
   "metadata": {},
   "outputs": [],
   "source": [
    "trxn_df = pd.read_sql_query((\"Select profileID,max(transactionDate) as lastTransactionDate,sum(transactionAmount) \" \n",
    "                             \"as monetaryValue, count(*) as frequency from transactions group by profileID\"), con=conn)"
   ]
  },
  {
   "cell_type": "markdown",
   "metadata": {},
   "source": [
    "client status data"
   ]
  },
  {
   "cell_type": "code",
   "execution_count": 5,
   "metadata": {},
   "outputs": [],
   "source": [
    "client_status_df = pd.read_sql_query((\"Select * from clients\"), con=conn)"
   ]
  },
  {
   "cell_type": "markdown",
   "metadata": {},
   "source": [
    "filter for only active clients"
   ]
  },
  {
   "cell_type": "code",
   "execution_count": 103,
   "metadata": {},
   "outputs": [],
   "source": [
    "client_df = trxn_df.merge(client_status_df[[\"profileID\"]],on=\"profileID\")"
   ]
  },
  {
   "cell_type": "code",
   "execution_count": 104,
   "metadata": {},
   "outputs": [
    {
     "name": "stdout",
     "output_type": "stream",
     "text": [
      "<class 'pandas.core.frame.DataFrame'>\n",
      "RangeIndex: 8785 entries, 0 to 8784\n",
      "Data columns (total 4 columns):\n",
      " #   Column               Non-Null Count  Dtype         \n",
      "---  ------               --------------  -----         \n",
      " 0   profileID            8785 non-null   object        \n",
      " 1   lastTransactionDate  8785 non-null   datetime64[ns]\n",
      " 2   monetaryValue        8785 non-null   float64       \n",
      " 3   frequency            8785 non-null   int64         \n",
      "dtypes: datetime64[ns](1), float64(1), int64(1), object(1)\n",
      "memory usage: 274.7+ KB\n"
     ]
    }
   ],
   "source": [
    "client_df.info()"
   ]
  },
  {
   "cell_type": "markdown",
   "metadata": {},
   "source": [
    "## Calculate Recency values"
   ]
  },
  {
   "cell_type": "code",
   "execution_count": 105,
   "metadata": {},
   "outputs": [],
   "source": [
    "# recency\n",
    "client_df['recency'] = (datetime.now().date() - client_df['lastTransactionDate'].dt.date)"
   ]
  },
  {
   "cell_type": "code",
   "execution_count": 106,
   "metadata": {},
   "outputs": [],
   "source": [
    "# extract days for recency\n",
    "client_df.recency = client_df.recency.apply(lambda row:str(row).split(\"days\")[0])\n",
    "client_df.recency = client_df.recency.apply(lambda row:str(row).split(\"day\")[0])"
   ]
  },
  {
   "cell_type": "code",
   "execution_count": 107,
   "metadata": {},
   "outputs": [],
   "source": [
    "client_df.recency = client_df.recency.astype(int)"
   ]
  },
  {
   "cell_type": "markdown",
   "metadata": {},
   "source": [
    "<!-- ## Plotting RFM distributions -->"
   ]
  },
  {
   "cell_type": "code",
   "execution_count": 108,
   "metadata": {},
   "outputs": [],
   "source": [
    "# plt.figure(figsize=(20,10))"
   ]
  },
  {
   "cell_type": "code",
   "execution_count": 109,
   "metadata": {},
   "outputs": [],
   "source": [
    "# # recency\n",
    "# plt.subplot(3,1,1)\n",
    "# sns.displot(client_df.recency)\n",
    "# plt.ylabel(\"Value\", fontsize=12)\n",
    "# plt.xlabel(\"Recency\", fontsize=12)\n",
    "\n",
    "# # freq\n",
    "# plt.subplot(3,1,2)\n",
    "# sns.displot(client_df.frequency)\n",
    "# plt.ylabel(\"Value\", fontsize=12)\n",
    "# plt.xlabel(\"Frequency\", fontsize=12)\n",
    "\n",
    "# monetary value\n",
    "# plt.subplot(3,1,2)\n",
    "# sns.displot(client_df.monetaryValue)\n",
    "# plt.ylabel(\"Value\", fontsize=12)\n",
    "# plt.xlabel(\"Monetary Value\", fontsize=12)"
   ]
  },
  {
   "cell_type": "markdown",
   "metadata": {},
   "source": [
    "## Calculate RFM scores"
   ]
  },
  {
   "cell_type": "code",
   "execution_count": 110,
   "metadata": {},
   "outputs": [],
   "source": [
    "recency_scores = [5, 4, 3, 2, 1]  # Higher score for lower recency (more recent transactions)\n",
    "frequency_scores = [1, 2, 3, 4, 5]  # Higher score for higher frequency\n",
    "monetary_scores = [1, 2, 3, 4, 5]  # Higher score for higher monetary value\n",
    "\n",
    "# Calculate RFM scores\n",
    "client_df['recencyScore'] = pd.cut(client_df['recency'], bins=5, labels=recency_scores)\n",
    "client_df['frequencyScore'] = pd.cut(client_df['frequency'], bins=5, labels=frequency_scores)\n",
    "client_df['monetaryScore'] = pd.cut(client_df['monetaryValue'], bins=5, labels=monetary_scores)"
   ]
  },
  {
   "cell_type": "code",
   "execution_count": 111,
   "metadata": {},
   "outputs": [],
   "source": [
    "client_df['recencyScore'] = client_df['recencyScore'].astype(int)\n",
    "client_df['frequencyScore'] = client_df['frequencyScore'].astype(int)\n",
    "client_df['monetaryScore'] = client_df['monetaryScore'].astype(int)"
   ]
  },
  {
   "cell_type": "markdown",
   "metadata": {},
   "source": [
    "## RFM value segmentation"
   ]
  },
  {
   "cell_type": "code",
   "execution_count": 112,
   "metadata": {},
   "outputs": [],
   "source": [
    "# calc RFM score\n",
    "client_df['rfmScore'] = client_df['recencyScore'] + client_df['frequencyScore'] + client_df['monetaryScore']"
   ]
  },
  {
   "cell_type": "code",
   "execution_count": 113,
   "metadata": {},
   "outputs": [],
   "source": [
    "# Create RFM segments based on the RFM score\n",
    "segment_labels = ['Low-Value', 'Mid-Value', 'High-Value']\n",
    "client_df['valueSegment'] = pd.qcut(client_df['rfmScore'], q=3, labels=segment_labels)"
   ]
  },
  {
   "cell_type": "markdown",
   "metadata": {},
   "source": [
    "Segment distribution"
   ]
  },
  {
   "cell_type": "code",
   "execution_count": 114,
   "metadata": {},
   "outputs": [],
   "source": [
    "segment_counts = client_df['valueSegment'].value_counts().reset_index()"
   ]
  },
  {
   "cell_type": "code",
   "execution_count": 115,
   "metadata": {},
   "outputs": [
    {
     "data": {
      "text/html": [
       "<div>\n",
       "<style scoped>\n",
       "    .dataframe tbody tr th:only-of-type {\n",
       "        vertical-align: middle;\n",
       "    }\n",
       "\n",
       "    .dataframe tbody tr th {\n",
       "        vertical-align: top;\n",
       "    }\n",
       "\n",
       "    .dataframe thead th {\n",
       "        text-align: right;\n",
       "    }\n",
       "</style>\n",
       "<table border=\"1\" class=\"dataframe\">\n",
       "  <thead>\n",
       "    <tr style=\"text-align: right;\">\n",
       "      <th></th>\n",
       "      <th>valueSegment</th>\n",
       "      <th>count</th>\n",
       "    </tr>\n",
       "  </thead>\n",
       "  <tbody>\n",
       "    <tr>\n",
       "      <th>0</th>\n",
       "      <td>Mid-Value</td>\n",
       "      <td>5313</td>\n",
       "    </tr>\n",
       "    <tr>\n",
       "      <th>1</th>\n",
       "      <td>Low-Value</td>\n",
       "      <td>3452</td>\n",
       "    </tr>\n",
       "    <tr>\n",
       "      <th>2</th>\n",
       "      <td>High-Value</td>\n",
       "      <td>20</td>\n",
       "    </tr>\n",
       "  </tbody>\n",
       "</table>\n",
       "</div>"
      ],
      "text/plain": [
       "  valueSegment  count\n",
       "0    Mid-Value   5313\n",
       "1    Low-Value   3452\n",
       "2   High-Value     20"
      ]
     },
     "execution_count": 115,
     "metadata": {},
     "output_type": "execute_result"
    }
   ],
   "source": [
    "segment_counts"
   ]
  },
  {
   "cell_type": "markdown",
   "metadata": {},
   "source": [
    "bar chart"
   ]
  },
  {
   "cell_type": "code",
   "execution_count": 116,
   "metadata": {},
   "outputs": [
    {
     "data": {
      "text/plain": [
       "<Figure size 1000x500 with 0 Axes>"
      ]
     },
     "metadata": {},
     "output_type": "display_data"
    }
   ],
   "source": [
    "fig = plt.figure(figsize = (10, 5))"
   ]
  },
  {
   "cell_type": "code",
   "execution_count": 117,
   "metadata": {},
   "outputs": [],
   "source": [
    "segments = list(segment_counts[\"valueSegment\"].unique())\n",
    "segment_values = list(segment_counts[\"count\"].unique())"
   ]
  },
  {
   "cell_type": "code",
   "execution_count": 118,
   "metadata": {},
   "outputs": [
    {
     "data": {
      "image/png": "[encoded data removed]",
      "text/plain": [
       "<Figure size 640x480 with 1 Axes>"
      ]
     },
     "metadata": {},
     "output_type": "display_data"
    }
   ],
   "source": [
    "plt.bar(segments, segment_values, color ='blue',\n",
    "        width = 0.4)\n",
    "plt.xlabel(\"Customer value\")\n",
    "plt.ylabel(\"No. of customers\")\n",
    "plt.title(\"Customer value distribution\")\n",
    "plt.show()"
   ]
  },
  {
   "cell_type": "markdown",
   "metadata": {},
   "source": [
    "## RFM Customer Segmentation"
   ]
  },
  {
   "cell_type": "code",
   "execution_count": 119,
   "metadata": {},
   "outputs": [],
   "source": [
    "# Assign RFM segments based on the RFM score\n",
    "client_df.loc[client_df['rfmScore'] >= 9, 'RFMCustomerSegments'] = 'Champions'\n",
    "client_df.loc[(client_df['rfmScore'] >= 6) & (client_df['rfmScore'] < 9), 'RFMCustomerSegments'] = 'Potential Loyalists'\n",
    "client_df.loc[(client_df['rfmScore'] >= 5) & (client_df['rfmScore'] < 6), 'RFMCustomerSegments'] = 'Promising'\n",
    "client_df.loc[(client_df['rfmScore'] >= 4) & (client_df['rfmScore'] < 5), 'RFMCustomerSegments'] = \"Needs Attention\"\n",
    "client_df.loc[(client_df['rfmScore'] >= 3) & (client_df['rfmScore'] < 4), 'RFMCustomerSegments'] = \"Lost\""
   ]
  },
  {
   "cell_type": "markdown",
   "metadata": {},
   "source": [
    "value and customer segment distribution"
   ]
  },
  {
   "cell_type": "code",
   "execution_count": 120,
   "metadata": {},
   "outputs": [],
   "source": [
    "segment_product_counts = client_df.groupby(['valueSegment', 'RFMCustomerSegments']).size().reset_index(name='Count')"
   ]
  },
  {
   "cell_type": "code",
   "execution_count": 121,
   "metadata": {},
   "outputs": [],
   "source": [
    "segment_product_counts = segment_product_counts.sort_values('Count', ascending=False)"
   ]
  },
  {
   "cell_type": "code",
   "execution_count": 130,
   "metadata": {},
   "outputs": [
    {
     "data": {
      "text/html": [
       "<div>\n",
       "<style scoped>\n",
       "    .dataframe tbody tr th:only-of-type {\n",
       "        vertical-align: middle;\n",
       "    }\n",
       "\n",
       "    .dataframe tbody tr th {\n",
       "        vertical-align: top;\n",
       "    }\n",
       "\n",
       "    .dataframe thead th {\n",
       "        text-align: right;\n",
       "    }\n",
       "</style>\n",
       "<table border=\"1\" class=\"dataframe\">\n",
       "  <thead>\n",
       "    <tr style=\"text-align: right;\">\n",
       "      <th></th>\n",
       "      <th>valueSegment</th>\n",
       "      <th>RFMCustomerSegments</th>\n",
       "      <th>Count</th>\n",
       "    </tr>\n",
       "  </thead>\n",
       "  <tbody>\n",
       "    <tr>\n",
       "      <th>8</th>\n",
       "      <td>Mid-Value</td>\n",
       "      <td>Potential Loyalists</td>\n",
       "      <td>5313</td>\n",
       "    </tr>\n",
       "    <tr>\n",
       "      <th>3</th>\n",
       "      <td>Low-Value</td>\n",
       "      <td>Potential Loyalists</td>\n",
       "      <td>3201</td>\n",
       "    </tr>\n",
       "    <tr>\n",
       "      <th>4</th>\n",
       "      <td>Low-Value</td>\n",
       "      <td>Promising</td>\n",
       "      <td>174</td>\n",
       "    </tr>\n",
       "    <tr>\n",
       "      <th>2</th>\n",
       "      <td>Low-Value</td>\n",
       "      <td>Needs Attention</td>\n",
       "      <td>62</td>\n",
       "    </tr>\n",
       "    <tr>\n",
       "      <th>1</th>\n",
       "      <td>Low-Value</td>\n",
       "      <td>Lost</td>\n",
       "      <td>15</td>\n",
       "    </tr>\n",
       "    <tr>\n",
       "      <th>13</th>\n",
       "      <td>High-Value</td>\n",
       "      <td>Potential Loyalists</td>\n",
       "      <td>12</td>\n",
       "    </tr>\n",
       "    <tr>\n",
       "      <th>10</th>\n",
       "      <td>High-Value</td>\n",
       "      <td>Champions</td>\n",
       "      <td>8</td>\n",
       "    </tr>\n",
       "    <tr>\n",
       "      <th>0</th>\n",
       "      <td>Low-Value</td>\n",
       "      <td>Champions</td>\n",
       "      <td>0</td>\n",
       "    </tr>\n",
       "    <tr>\n",
       "      <th>5</th>\n",
       "      <td>Mid-Value</td>\n",
       "      <td>Champions</td>\n",
       "      <td>0</td>\n",
       "    </tr>\n",
       "    <tr>\n",
       "      <th>6</th>\n",
       "      <td>Mid-Value</td>\n",
       "      <td>Lost</td>\n",
       "      <td>0</td>\n",
       "    </tr>\n",
       "    <tr>\n",
       "      <th>7</th>\n",
       "      <td>Mid-Value</td>\n",
       "      <td>Needs Attention</td>\n",
       "      <td>0</td>\n",
       "    </tr>\n",
       "    <tr>\n",
       "      <th>9</th>\n",
       "      <td>Mid-Value</td>\n",
       "      <td>Promising</td>\n",
       "      <td>0</td>\n",
       "    </tr>\n",
       "    <tr>\n",
       "      <th>11</th>\n",
       "      <td>High-Value</td>\n",
       "      <td>Lost</td>\n",
       "      <td>0</td>\n",
       "    </tr>\n",
       "    <tr>\n",
       "      <th>12</th>\n",
       "      <td>High-Value</td>\n",
       "      <td>Needs Attention</td>\n",
       "      <td>0</td>\n",
       "    </tr>\n",
       "    <tr>\n",
       "      <th>14</th>\n",
       "      <td>High-Value</td>\n",
       "      <td>Promising</td>\n",
       "      <td>0</td>\n",
       "    </tr>\n",
       "  </tbody>\n",
       "</table>\n",
       "</div>"
      ],
      "text/plain": [
       "   valueSegment  RFMCustomerSegments  Count\n",
       "8     Mid-Value  Potential Loyalists   5313\n",
       "3     Low-Value  Potential Loyalists   3201\n",
       "4     Low-Value            Promising    174\n",
       "2     Low-Value      Needs Attention     62\n",
       "1     Low-Value                 Lost     15\n",
       "13   High-Value  Potential Loyalists     12\n",
       "10   High-Value            Champions      8\n",
       "0     Low-Value            Champions      0\n",
       "5     Mid-Value            Champions      0\n",
       "6     Mid-Value                 Lost      0\n",
       "7     Mid-Value      Needs Attention      0\n",
       "9     Mid-Value            Promising      0\n",
       "11   High-Value                 Lost      0\n",
       "12   High-Value      Needs Attention      0\n",
       "14   High-Value            Promising      0"
      ]
     },
     "execution_count": 130,
     "metadata": {},
     "output_type": "execute_result"
    }
   ],
   "source": [
    "segment_product_counts"
   ]
  },
  {
   "cell_type": "code",
   "execution_count": null,
   "metadata": {},
   "outputs": [],
   "source": [
    "\n"
   ]
  }
 ],
 "metadata": {
  "kernelspec": {
   "display_name": "Python 3",
   "language": "python",
   "name": "python3"
  },
  "language_info": {
   "codemirror_mode": {
    "name": "ipython",
    "version": 3
   },
   "file_extension": ".py",
   "mimetype": "text/x-python",
   "name": "python",
   "nbconvert_exporter": "python",
   "pygments_lexer": "ipython3",
   "version": "3.11.4"
  },
  "orig_nbformat": 4
 },
 "nbformat": 4,
 "nbformat_minor": 2
}
